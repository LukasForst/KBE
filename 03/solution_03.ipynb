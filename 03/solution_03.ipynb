{
 "cells": [
  {
   "cell_type": "markdown",
   "metadata": {
    "collapsed": true,
    "pycharm": {
     "name": "#%% md\n"
    }
   },
   "source": [
    "# Lab3 - TLS - Lukas Forst\n",
    "forstluk@fel.cvut.cz"
   ]
  },
  {
   "cell_type": "markdown",
   "metadata": {
    "pycharm": {
     "name": "#%% md\n"
    }
   },
   "source": [
    "## Task 1: Diffie–Hellman key exchange\n",
    "Implement the [vanilla](https://en.wikipedia.org/wiki/Diffie–Hellman_key_exchange#Cryptographic_explanation) DH algorithm.\n",
    "Try it with ``p=37`` and `g=5`. Can you make it working with recommended values\n",
    "``p=0xFFFFFFFFFFFFFFFFC90FDAA22168C234C4C6628B80DC1CD129024E088A67CC74020BBEA63B139B22514A08798E3404DDEF9519B3CD3A431B302B0A6DF25F14374FE1356D6D51C245E485B576625E7EC6F44C42E9A637ED6B0BFF5CB6F406B7EDEE386BFB5A899FA5AE9F24117C4B1FE649286651ECE45B3DC2007CB8A163BF0598DA48361C55D39A69163FA8FD24CF5F83655D23DCA3AD961C62F356208552BB9ED529077096966D670C354E4ABC9804F1746C08CA18217C32905E462E36CE3BE39E772C180E86039B2783A2EC07A28FB5C55DF06F4C52C9DE2BCBF6955817183995497CEA956AE515D2261898FA051015728E5A8AACAA68FFFFFFFFFFFFFFFF``\n",
    "and ``g=2`` ?"
   ]
  },
  {
   "cell_type": "code",
   "execution_count": 6,
   "metadata": {},
   "outputs": [],
   "source": [
    "DEFAULT_P = 0xFFFFFFFFFFFFFFFFC90FDAA22168C234C4C6628B80DC1CD129024E088A67CC74020BBEA63B139B22514A08798E3404DDEF9519B3CD3A431B302B0A6DF25F14374FE1356D6D51C245E485B576625E7EC6F44C42E9A637ED6B0BFF5CB6F406B7EDEE386BFB5A899FA5AE9F24117C4B1FE649286651ECE45B3DC2007CB8A163BF0598DA48361C55D39A69163FA8FD24CF5F83655D23DCA3AD961C62F356208552BB9ED529077096966D670C354E4ABC9804F1746C08CA18217C32905E462E36CE3BE39E772C180E86039B2783A2EC07A28FB5C55DF06F4C52C9DE2BCBF6955817183995497CEA956AE515D2261898FA051015728E5A8AACAA68FFFFFFFFFFFFFFFF\n",
    "DEFAULT_G = 2\n",
    "DEFAULT_BLOCK_SIZE = 16"
   ]
  },
  {
   "cell_type": "code",
   "execution_count": 7,
   "metadata": {},
   "outputs": [],
   "source": [
    "import hashlib\n",
    "import secrets\n",
    "\n",
    "class DhAgent:\n",
    "\n",
    "    def __init__(self, msg: str = None, **kwargs):\n",
    "        self.msg = msg\n",
    "        self.p = kwargs.pop('p', DEFAULT_P)\n",
    "        self.g = kwargs.pop('g', DEFAULT_G)\n",
    "        self.block_size = kwargs.pop('block_size', DEFAULT_BLOCK_SIZE)\n",
    "\n",
    "        self.private_key = secrets.randbelow(self.p)\n",
    "\n",
    "        self.shared_secret = None\n",
    "\n",
    "    def send_public_data(self) -> [int, int]:\n",
    "        return self.p, self.g\n",
    "\n",
    "    def receive_public_data(self, p: int, g: int):\n",
    "        self.p, self.g = p, g\n",
    "\n",
    "    def send_public_key(self) -> int:\n",
    "        return pow(self.g, self.private_key, self.p)\n",
    "\n",
    "    def receive_public_key(self, pk: int):\n",
    "        self.shared_secret = pow(pk, self.private_key, self.p)\n",
    "\n",
    "    def key(self) -> bytes:\n",
    "        # TODO check if it is necessary to get bytes of int or str(secret) is ok\n",
    "        sha1 = hashlib.sha1(str(self.shared_secret).encode('utf-8')).digest()\n",
    "        # TODO check if take first or last (imo it doesn't matter)\n",
    "        return sha1[:self.block_size]"
   ]
  },
  {
   "cell_type": "markdown",
   "metadata": {},
   "source": [
    "Now let's test the agent."
   ]
  },
  {
   "cell_type": "code",
   "execution_count": 8,
   "metadata": {
    "pycharm": {
     "name": "#%%\n"
    }
   },
   "outputs": [
    {
     "name": "stdout",
     "output_type": "stream",
     "text": [
      "Ok\n",
      "Ok\n"
     ]
    }
   ],
   "source": [
    "def assert_dh(p: int, g: int):\n",
    "    alice = DhAgent(p=p, g=g)\n",
    "    bob = DhAgent(p=p, g=g)\n",
    "\n",
    "    alice.receive_public_key(bob.send_public_key())\n",
    "    bob.receive_public_key(alice.send_public_key())\n",
    "\n",
    "    assert alice.shared_secret == bob.shared_secret, \"shared secrets don't match!\"\n",
    "    print(\"Ok\")\n",
    "\n",
    "\n",
    "p, g = 37, 5\n",
    "assert_dh(p, g)\n",
    "\n",
    "p = 0xFFFFFFFFFFFFFFFFC90FDAA22168C234C4C6628B80DC1CD129024E088A67CC74020BBEA63B139B22514A08798E3404DDEF9519B3CD3A431B302B0A6DF25F14374FE1356D6D51C245E485B576625E7EC6F44C42E9A637ED6B0BFF5CB6F406B7EDEE386BFB5A899FA5AE9F24117C4B1FE649286651ECE45B3DC2007CB8A163BF0598DA48361C55D39A69163FA8FD24CF5F83655D23DCA3AD961C62F356208552BB9ED529077096966D670C354E4ABC9804F1746C08CA18217C32905E462E36CE3BE39E772C180E86039B2783A2EC07A28FB5C55DF06F4C52C9DE2BCBF6955817183995497CEA956AE515D2261898FA051015728E5A8AACAA68FFFFFFFFFFFFFFFF\n",
    "g = 2\n",
    "assert_dh(p, g)"
   ]
  },
  {
   "cell_type": "markdown",
   "metadata": {
    "pycharm": {
     "name": "#%% md\n"
    }
   },
   "source": [
    "## Task 2: Diffie–Hellman key\n",
    "Turn a DH secret into a key. Use ``sha1`` to generate `BLOCK_SIZE = 16` long key material."
   ]
  },
  {
   "cell_type": "code",
   "execution_count": 9,
   "metadata": {
    "pycharm": {
     "name": "#%%\n"
    }
   },
   "outputs": [],
   "source": [
    "def alice_bob() -> [DhAgent, DhAgent]:\n",
    "    # create agents\n",
    "    alice = DhAgent()\n",
    "    bob = DhAgent()\n",
    "    # exchange key material\n",
    "    alice.receive_public_key(bob.send_public_key())\n",
    "    bob.receive_public_key(alice.send_public_key())\n",
    "    # return instances\n",
    "    return alice, bob"
   ]
  },
  {
   "cell_type": "markdown",
   "metadata": {},
   "source": [
    "Now, let's test the implementation"
   ]
  },
  {
   "cell_type": "code",
   "execution_count": 10,
   "metadata": {
    "pycharm": {
     "name": "#%%\n"
    }
   },
   "outputs": [
    {
     "name": "stdout",
     "output_type": "stream",
     "text": [
      "Ok\n"
     ]
    }
   ],
   "source": [
    "alice, bob = alice_bob()\n",
    "\n",
    "assert alice.key() == bob.key()\n",
    "assert len(alice.key()) == DEFAULT_BLOCK_SIZE\n",
    "\n",
    "print(\"Ok\")"
   ]
  },
  {
   "cell_type": "markdown",
   "metadata": {},
   "source": [
    "## Task 3: Bulk cipher\n",
    "Ensure you have working implementation of AES in CBC mode with PKCS&#35;7 padding. It is recommended to use  `BLOCK_SIZE = 16`\n",
    "You will need ``encrypt(key, iv, message)`` and `decrypt(key, iv, encrypted_message)` functions.\n",
    "You can check your implementation with ``bulk_cipher.py`` example.\n"
   ]
  },
  {
   "cell_type": "code",
   "execution_count": 11,
   "metadata": {},
   "outputs": [],
   "source": [
    "from Cryptodome.Cipher import AES\n",
    "from pkcs7 import PKCS7Encoder\n",
    "\n",
    "def encrypt(key: bytes, iv: bytes, message: str):\n",
    "    encoder = PKCS7Encoder(DEFAULT_BLOCK_SIZE)\n",
    "\n",
    "    aes = AES.new(key, AES.MODE_CBC, iv[:16])\n",
    "    pad_text = encoder.encode(message)\n",
    "    return aes.encrypt(pad_text.encode())\n",
    "\n",
    "\n",
    "def decrypt(key: bytes, iv: bytes, encrypted_message: bytes) -> str:\n",
    "    encoder = PKCS7Encoder(DEFAULT_BLOCK_SIZE)\n",
    "    \n",
    "    aes = AES.new(key, AES.MODE_CBC, iv[:16])\n",
    "    pad_text = aes.decrypt(encrypted_message)\n",
    "    return encoder.decode(pad_text.decode())"
   ]
  },
  {
   "cell_type": "markdown",
   "metadata": {},
   "source": [
    "Now, let's test the implementation."
   ]
  },
  {
   "cell_type": "code",
   "execution_count": 13,
   "metadata": {},
   "outputs": [
    {
     "name": "stdout",
     "output_type": "stream",
     "text": [
      "Ok\n"
     ]
    }
   ],
   "source": [
    "import random\n",
    "import string\n",
    "import os\n",
    "\n",
    "BLOCK_SIZE = DEFAULT_BLOCK_SIZE\n",
    "\n",
    "key = os.urandom(BLOCK_SIZE)\n",
    "iv = os.urandom(BLOCK_SIZE)\n",
    "msg = ''.join(random.choice(string.ascii_lowercase) for i in range(1024))\n",
    "\n",
    "ciphertext = encrypt(key, iv, msg)\n",
    "cleartext = decrypt(key, iv, ciphertext)\n",
    "\n",
    "assert cleartext == msg\n",
    "print(\"Ok\")"
   ]
  },
  {
   "cell_type": "markdown",
   "metadata": {
    "pycharm": {
     "name": "#%% md\n"
    }
   },
   "source": [
    "## Task 4: Implement simple SSL/TLS setup\n",
    "It's time to have some fun now. Checkout `tls_101.py` example. Implement `Agent()` class such that this code executes with no errors.\n",
    "You might want to use DH keys to seed AES_CBC bulk cipher you have implemented before\n",
    "The interface for the ``Agent()`` class should support:\n",
    "* sending/receiving public data (`p` and `g`)\n",
    "* sending/receiving public key\n",
    "* sending/receiving messages\n",
    "\n",
    "Please, use recommended values for `p` and `g` for DH key exchange protocol."
   ]
  },
  {
   "cell_type": "code",
   "execution_count": 14,
   "metadata": {},
   "outputs": [],
   "source": [
    "class Agent(DhAgent):\n",
    "    def send_message(self) -> bytes:\n",
    "        iv = os.urandom(self.block_size)\n",
    "        cipher_text = encrypt(self.key(), iv, self.msg)\n",
    "        return iv + cipher_text\n",
    "\n",
    "    def receive_message(self, msg: bytes):\n",
    "        iv = msg[0:self.block_size]\n",
    "        cipher_text = msg[self.block_size:]\n",
    "        self.msg = decrypt(self.key(), iv, cipher_text)"
   ]
  },
  {
   "cell_type": "markdown",
   "metadata": {},
   "source": [
    "Now let's test Agent."
   ]
  },
  {
   "cell_type": "code",
   "execution_count": 15,
   "metadata": {},
   "outputs": [
    {
     "name": "stdout",
     "output_type": "stream",
     "text": [
      "Ok\n"
     ]
    }
   ],
   "source": [
    "alice = Agent(\"I'M 5UppER Kewl h4zKEr\")\n",
    "bob = Agent()\n",
    "\n",
    "\n",
    "# Alice has da message, Bob doesn't\n",
    "assert alice.msg\n",
    "assert not bob.msg\n",
    "\n",
    "# Negotiate parameters publicly\n",
    "bob.receive_public_data(*alice.send_public_data())\n",
    "alice.receive_public_data(*bob.send_public_data())\n",
    "\n",
    "# Exchange keys publicly\n",
    "bob.receive_public_key(alice.send_public_key())\n",
    "alice.receive_public_key(bob.send_public_key())\n",
    "\n",
    "# Pass da message\n",
    "ciphertext = alice.send_message()\n",
    "bob.receive_message(ciphertext)\n",
    "# Bob has it now\n",
    "assert alice.msg == bob.msg\n",
    "print(\"Ok\")"
   ]
  },
  {
   "cell_type": "markdown",
   "metadata": {
    "pycharm": {
     "name": "#%% md\n"
    }
   },
   "source": [
    "## Task 5: Man-in-the-middle\n",
    "Oh, no! Looks like something is wrong here! Who the hell is Mallory?\n",
    "Implement `MITM()` class such that `itls_101.py` runs with no errors.\n",
    "The interface should support:\n",
    "* sending/receiving public data (`p` and `g`)\n",
    "* sending/receiving public key\n",
    "* intercept_message"
   ]
  },
  {
   "cell_type": "code",
   "execution_count": 16,
   "metadata": {},
   "outputs": [],
   "source": [
    "class MITM():\n",
    "    def __init__(self):\n",
    "        self.alice_proxy = Agent()\n",
    "        self.bob_proxy = Agent()\n",
    "        \n",
    "        # get same private key for all instances\n",
    "        self.bob_proxy.private_key = self.alice_proxy.private_key\n",
    "        \n",
    "        self.received_pd = 0\n",
    "        self.received_pk = 0\n",
    "    \n",
    "    def send_public_data(self) -> [int, int]:\n",
    "        return self.bob_proxy.send_public_data()\n",
    "\n",
    "    def receive_public_data(self, p: int, g: int):\n",
    "        if self.received_pd == 0:\n",
    "            self.alice_proxy.receive_public_data(p, g)\n",
    "        elif self.received_pd == 1:\n",
    "            self.bob_proxy.receive_public_data(p, g)\n",
    "\n",
    "        self.received_pd = self.received_pd + 1\n",
    "\n",
    "    def send_public_key(self) -> int:\n",
    "        return self.bob_proxy.send_public_key()\n",
    "\n",
    "    def receive_public_key(self, pk: int):\n",
    "        if self.received_pk == 0:\n",
    "            self.alice_proxy.receive_public_key(pk)\n",
    "        elif self.received_pk == 1:\n",
    "            self.bob_proxy.receive_public_key(pk)\n",
    "\n",
    "        self.received_pk = self.received_pk + 1\n",
    "\n",
    "    def intercept_message(self, alice_cipher_text: bytes) -> bytes:\n",
    "        # decrypt from alice\n",
    "        self.alice_proxy.receive_message(alice_cipher_text)\n",
    "        self.msg = self.alice_proxy.msg\n",
    "        # encrypt for bob\n",
    "        self.bob_proxy.msg = self.msg\n",
    "        return self.bob_proxy.send_message()"
   ]
  },
  {
   "cell_type": "markdown",
   "metadata": {},
   "source": [
    "Now let's test the code."
   ]
  },
  {
   "cell_type": "code",
   "execution_count": 17,
   "metadata": {},
   "outputs": [
    {
     "name": "stdout",
     "output_type": "stream",
     "text": [
      "Ok\n"
     ]
    }
   ],
   "source": [
    "alice = Agent(\"I'M 5UppER Kewl h4zKEr\")\n",
    "bob = Agent()\n",
    "mallory = MITM()\n",
    "\n",
    "# Alice has da message, Bob doesn't\n",
    "assert alice.msg\n",
    "assert not bob.msg\n",
    "\n",
    "# Negotiate parameters publicly\n",
    "mallory.receive_public_data(*alice.send_public_data())\n",
    "bob.receive_public_data(*mallory.send_public_data())\n",
    "mallory.receive_public_data(*bob.send_public_data())\n",
    "alice.receive_public_data(*mallory.send_public_data())\n",
    "\n",
    "# Exchange keys publicly\n",
    "mallory.receive_public_key(alice.send_public_key())\n",
    "bob.receive_public_key(mallory.send_public_key())\n",
    "mallory.receive_public_key(bob.send_public_key())\n",
    "alice.receive_public_key(mallory.send_public_key())\n",
    "\n",
    "# Pass da message\n",
    "bob.receive_message(mallory.intercept_message(alice.send_message()))\n",
    "# Bob has it now\n",
    "assert bob.msg == alice.msg\n",
    "# Mallory too\n",
    "assert mallory.msg == alice.msg\n",
    "print(\"Ok\")"
   ]
  },
  {
   "cell_type": "markdown",
   "metadata": {
    "pycharm": {
     "name": "#%% md\n"
    }
   },
   "source": [
    "## Task 6: RSA\n",
    "[RSA algorithm](https://en.wikipedia.org/wiki/RSA_(cryptosystem)#Key_generation) is the most used asymmetric encryption algorithm in the world. It is based on the principal that it is easy to multiply large numbers, but factoring large numbers is very hard.\n",
    "Within the TLS context it is used for both key exchange and generate signatures for security certificates (do you know why is that possible?). Let us implement this algorithm.\n",
    "Here are few hints:\n",
    "* Please use `p = 13604067676942311473880378997445560402287533018336255431768131877166265134668090936142489291434933287603794968158158703560092550835351613469384724860663783`, `q = 20711176938531842977036011179660439609300527493811127966259264079533873844612186164429520631818559067891139294434808806132282696875534951083307822997248459` and `e=3` for the key generation procedure.\n",
    "* You might want to implement your `invmod` function. Test it with values `a=19` and `m=1212393831`. You should get `701912218`.\n",
    "Your function should also correctly handles the case  when `a=13` and `m=91`\n",
    "* You might want to implement functions `encrypt(bytes_, ...)/decrypt(bytes_,...)` and separately `encrypt_int(int_, ...)/decrypt_int(int_,...)`\n",
    "* Please use [big endian](https://en.wikipedia.org/wiki/Endianness#Big-endian) notation when transforming bytes to integer"
   ]
  },
  {
   "cell_type": "code",
   "execution_count": 18,
   "metadata": {},
   "outputs": [],
   "source": [
    "DEFAULT_P = 13604067676942311473880378997445560402287533018336255431768131877166265134668090936142489291434933287603794968158158703560092550835351613469384724860663783\n",
    "DEFAULT_Q = 20711176938531842977036011179660439609300527493811127966259264079533873844612186164429520631818559067891139294434808806132282696875534951083307822997248459\n",
    "DEFAULT_E = 3"
   ]
  },
  {
   "cell_type": "code",
   "execution_count": 19,
   "metadata": {},
   "outputs": [],
   "source": [
    "# in latest python, invmod is easy\n",
    "def invmod(a, m):\n",
    "    try:\n",
    "        return pow(a, -1, m)\n",
    "    except:\n",
    "        return 1\n",
    "assert invmod(19, 1212393831) == 701912218\n",
    "\n",
    "# https://stackoverflow.com/a/30375198/7169288\n",
    "def int_to_bytes(x: int) -> bytes:\n",
    "    return x.to_bytes((x.bit_length() + 7) // 8, 'big')\n",
    "    \n",
    "def int_from_bytes(xbytes: bytes) -> int:\n",
    "    return int.from_bytes(xbytes, 'big')"
   ]
  },
  {
   "cell_type": "code",
   "execution_count": 20,
   "metadata": {},
   "outputs": [],
   "source": [
    "import math\n",
    "from dataclasses import dataclass\n",
    "\n",
    "@dataclass\n",
    "class PrivateKey:\n",
    "    n: int\n",
    "    d: int\n",
    "\n",
    "@dataclass\n",
    "class PublicKey:\n",
    "    n: int\n",
    "    e: int\n",
    "        \n",
    "def generate_key(**kwargs):\n",
    "    p = kwargs.pop('p', DEFAULT_P)\n",
    "    q = kwargs.pop('q', DEFAULT_Q)\n",
    "    e = kwargs.pop('e', DEFAULT_E)\n",
    "    \n",
    "    n = p*q\n",
    "    t = math.lcm(p - 1, q - 1)\n",
    "    d = invmod(e, t)\n",
    "    return PrivateKey(n, d), PublicKey(n, e)\n",
    "\n",
    "def encrypt_int(public_key: PublicKey, message: int) -> int:\n",
    "    return pow(message, public_key.e, public_key.n)\n",
    "\n",
    "def decrypt_int(private_key: PrivateKey, cipher_text: int) -> int:\n",
    "    return pow(cipher_text, private_key.d, private_key.n)\n",
    "\n",
    "def encrypt(public_key: PublicKey, message: bytes) -> bytes:\n",
    "    c = encrypt_int(public_key, int_from_bytes(message))\n",
    "    return int_to_bytes(c)\n",
    "\n",
    "def decrypt(private_key: PrivateKey, cipher_text: bytes) -> bytes:\n",
    "    m = decrypt_int(private_key, int_from_bytes(cipher_text))\n",
    "    return int_to_bytes(m)"
   ]
  },
  {
   "cell_type": "markdown",
   "metadata": {},
   "source": [
    "Now, let's test the code."
   ]
  },
  {
   "cell_type": "code",
   "execution_count": 21,
   "metadata": {},
   "outputs": [
    {
     "name": "stdout",
     "output_type": "stream",
     "text": [
      "Ok\n"
     ]
    }
   ],
   "source": [
    "private_key, public_key = generate_key(e=3)\n",
    "\n",
    "message = \"I will not write crypto code myself, but defer to high-level libraries written by experts who took the right decisions for me\".encode()\n",
    "cipher_text = encrypt(public_key, message)\n",
    "assert message == decrypt(private_key, cipher_text)\n",
    "print(\"Ok\")"
   ]
  },
  {
   "cell_type": "markdown",
   "metadata": {
    "pycharm": {
     "name": "#%% md\n"
    }
   },
   "source": [
    "## Task 7:  RSA broadcast attack\n",
    "It's time to check now that despite a really complex math involved in RSA algorithm it is still might be vulnerable to a number of attacks.\n",
    "In this exercise we will implement the RSA broadcast attack (a.k.a simplest form of [Håstad's broadcast attack](https://en.wikipedia.org/wiki/Coppersmith's_attack#Håstad's_broadcast_attack))\n",
    "Assume yourself an attacker who was lucky enough to capture any 3 of the ciphertexts and their corresponding public keys.\n",
    "Check out `message_captured`. You also know that those ciphers a related to the same message. Can you read the message? Here are a few hints for this exercise:\n",
    "* The data is encrypted using `encrypt_int(public, bytes2int(message.encode()))`.\n",
    "* Please note, that in all 3 case public keys _are different_\n",
    "\n",
    "How Chinese remainder theorem is helping you here?"
   ]
  },
  {
   "cell_type": "markdown",
   "metadata": {},
   "source": [
    "First, let's parse data."
   ]
  },
  {
   "cell_type": "code",
   "execution_count": 22,
   "metadata": {},
   "outputs": [],
   "source": [
    "import json\n",
    "\n",
    "captured_ms = []\n",
    "with open('message_captured', 'r') as f:\n",
    "    captured_ms = [json.loads(m) for m in f.readlines()]\n",
    "\n",
    "es = [m['e'] for m in captured_ms]\n",
    "\n",
    "# check that all e are same\n",
    "e = es[0]\n",
    "assert es.count(e) == len(es)\n",
    "\n",
    "ns = [m['n'] for m in captured_ms]\n",
    "data = [m['data'] for m in captured_ms]"
   ]
  },
  {
   "cell_type": "markdown",
   "metadata": {},
   "source": [
    "Now we use find Chinese reminder."
   ]
  },
  {
   "cell_type": "code",
   "execution_count": 23,
   "metadata": {},
   "outputs": [],
   "source": [
    "from functools import reduce\n",
    "\n",
    "def chinese_remainder(ns: [int], cs: [int]) -> int:\n",
    "    prod = reduce(lambda acc, b: acc*b, ns)\n",
    "    s = 0\n",
    "    for n, c in zip(ns, cs):\n",
    "        p = prod // n\n",
    "        s += c * invmod(p, n) * p\n",
    "    return s % prod\n",
    "\n",
    "# we can not do just math.pow(i,1/3.) as the ints are too big\n",
    "# so we bruteforce it using bisection method\n",
    "# https://stackoverflow.com/a/23622115/7169288\n",
    "def find_cube_root(n: int) -> int:\n",
    "    lo = 0\n",
    "    hi = 1 << ((n.bit_length() + 2) // 3)\n",
    "    while lo < hi:\n",
    "        mid = (lo+hi)//2\n",
    "        if mid**3 < n:\n",
    "            lo = mid+1\n",
    "        else:\n",
    "            hi = mid\n",
    "    return lo"
   ]
  },
  {
   "cell_type": "markdown",
   "metadata": {},
   "source": [
    "Now we can find the plaintext."
   ]
  },
  {
   "cell_type": "code",
   "execution_count": 24,
   "metadata": {},
   "outputs": [
    {
     "data": {
      "text/plain": [
       "b'Even experts make mistakes. Crypto is extremely difficult to get right'"
      ]
     },
     "execution_count": 24,
     "metadata": {},
     "output_type": "execute_result"
    }
   ],
   "source": [
    "chrm = chinese_remainder(ns, data)\n",
    "cr = find_cube_root(chrm)\n",
    "\n",
    "# aaaand we have a plaintext\n",
    "int_to_bytes(cr)"
   ]
  },
  {
   "cell_type": "markdown",
   "metadata": {
    "pycharm": {
     "name": "#%% md\n"
    }
   },
   "source": [
    "## Task 8: Bleichenbacher's RSA attack\n",
    "RSA is also used to generate digital signatures. When generating a signature the algorithm is somehow reversed: the message is first \"decrypted\" with a private key and then is being send over an open channel\n",
    "to be \"encrypted\" with a public key known to a client. In this exercise we are going to implement the attack that broke Firefox's TLS certificate validation about 10 years years ago. The interested reader can refer to [this](https://mailarchive.ietf.org/arch/msg/openpgp/5rnE9ZRN1AokBVj3VqblGlP63QE) article.\n",
    "\n",
    "The most widely used scheme for RSA signing at that was this: one takes the hash of the message to be signed, and then encodes it like this\n",
    "```00 01 FF FF ... FF FF 00 ASN.1 HASH```.\n",
    "Where ``ASN.1`` is a very complex binary encoding of the hash type and length.\n",
    "The above then is  \"decrypted\" with RSA. `FF` bytes provide padding to make the message exactly as long as the modulus `n`.\n",
    "\n",
    "The intuition behind the Bleichenbacher's RSA attack is that while it's impossible without private key (more specifically, without `d`) to\n",
    "find a number that elevated to `e` gives exactly the encoding above, one can get to an approximation,\n",
    "for example by taking the `e`-th root of the target message. If `e` is small enough, the approximation might be good enough to get a message like\n",
    "``00 01 FF 00 ASN.1 HASH GARBAGE``\n",
    "\n",
    "\n",
    "If the verification function fails to check that the hash is aligned at the end of the message (i.e. that there are enough `FF` bytes),\n",
    "we can fake signatures that will work with any public key using a certain small `e`. As you can see, `n` becomes completely irrelevant\n",
    "because exponentiation by `e` never wraps past the modulus.\n",
    "\n",
    "In this exercise you will be asked to implement all the functions needed to make code ``rsa_bleichenbachers.py`` running without errors.\n",
    "Please, use `p = 19480788016963928122154998009409704650199579180935803274714730386316184054417141690600073553930946636444075859515663914031205286780328040150640437671830139` and\n",
    "`q = 17796969605776551869310475203125552045634696428993510870214166498382761292983903655073238902946874986503030958347986885039275191424502139015148025375449097`\n",
    "for the key generation procedure. `e` as before is 3."
   ]
  },
  {
   "cell_type": "code",
   "execution_count": 25,
   "metadata": {},
   "outputs": [],
   "source": [
    "# see https://www.ietf.org/rfc/rfc3447.txt - page 42\n",
    "ansi1 = b\"\\x30\\x21\\x30\\x09\\x06\\x05\\x2b\\x0e\\x03\\x02\\x1a\\x05\\x00\\x04\\x14\"\n",
    "\n",
    "def generate_message_hash(msg: bytes) -> bytes:\n",
    "    return hashlib.sha1(msg).digest()\n",
    "\n",
    "def rsa_signature_pad(n: int, msg_sha1: bytes) -> bytes:\n",
    "    digest = b\"\\x00\\x01\"\n",
    "    diff = (n.bit_length() // 8) - len(digest) - 1 - len(ansi1) - len(msg_sha1)\n",
    "    digest = digest + b\"\\xff\"* diff  + b\"\\x00\" + ansi1 + msg_sha1\n",
    "    return digest\n",
    "\n",
    "def generate_signature(private_key: PrivateKey, msg_sha1: bytes) -> bytes:\n",
    "    digest = rsa_signature_pad(private_key.n, msg_sha1)\n",
    "    return decrypt(private_key, digest)\n",
    "\n",
    "def verify_signature(public_key: PublicKey, signature: bytes, msg_sha1: bytes) -> bool:\n",
    "    dec = encrypt(public_key, signature) # this returns without first zeros\n",
    "    dec = dec if dec[0] == b\"\\x00\" else b\"\\x00\" + dec # put zero back to their place\n",
    "    # check that it starts with correct pattern\n",
    "    if dec[:2] != b\"\\x00\\x01\":\n",
    "        return False\n",
    "    \n",
    "    # get rid of padding, find 00 separator before ANS.1\n",
    "    # 00 01 FF.. 00 ASN.1 HASH ---->  len(ASN.1) + three bytes (00 01 00)\n",
    "    hash_start_idx = dec[2:].find(b\"\\x00\") + len(ansi1) + 3\n",
    "    # select hash (it has length 20 because of sha1)\n",
    "    signature_hash = dec[hash_start_idx:hash_start_idx + 20]\n",
    "    return signature_hash == msg_sha1\n",
    "    \n",
    "\n",
    "def fake_signature(msg_sha1: bytes) -> bytes:\n",
    "    # 128 is the lenght of signature, 15 ANS.1, 20 sha1 and 4 as padding bytes 00 01 FF 00\n",
    "    trash_padding = 128 - len(ansi1) - len(msg_sha1) - 4\n",
    "    digest = b\"\\x00\\x01\\xFF\\x00\" + ansi1 + msg_sha1 + (b\"\\x00\" * trash_padding)\n",
    "    return int_to_bytes(find_cube_root(int_from_bytes(digest)))"
   ]
  },
  {
   "cell_type": "markdown",
   "metadata": {},
   "source": [
    "And now let's test it."
   ]
  },
  {
   "cell_type": "code",
   "execution_count": 26,
   "metadata": {},
   "outputs": [
    {
     "name": "stdout",
     "output_type": "stream",
     "text": [
      "Ok\n"
     ]
    }
   ],
   "source": [
    "p = 19480788016963928122154998009409704650199579180935803274714730386316184054417141690600073553930946636444075859515663914031205286780328040150640437671830139\n",
    "q = 17796969605776551869310475203125552045634696428993510870214166498382761292983903655073238902946874986503030958347986885039275191424502139015148025375449097\n",
    "e = 3\n",
    "message = b'Trust no one'\n",
    "msg_sha1 = generate_message_hash(message)\n",
    "private_key, public_key = generate_key(p=p, q=q, e=e)\n",
    "signature = generate_signature(private_key, msg_sha1)\n",
    "assert verify_signature(public_key, signature, msg_sha1)\n",
    "assert verify_signature(public_key, fake_signature(msg_sha1), msg_sha1)\n",
    "\n",
    "print(\"Ok\")"
   ]
  },
  {
   "cell_type": "markdown",
   "metadata": {
    "pycharm": {
     "name": "#%% md\n"
    }
   },
   "source": [
    "## Task 9: DSA\n",
    "The final task of this block is pretty simple. We are going to break Digital Signature Algorithm ([DSA](https://en.wikipedia.org/wiki/Digital_Signature_Algorithm)). If the used [nonce](https://en.wikipedia.org/wiki/Cryptographic_nonce)\n",
    "is weak than it is trivial to break the DSA.\n",
    "\n",
    "Let us set the DSA domain parameters as follows:\n",
    "\n",
    "| Parameter        | Value           |\n",
    "| ------------- |:-------------|\n",
    "| p | `0x800000000000000089e1855218a0e7dac38136ffafa72eda7859f2171e25e65eac698c1702578b07dc2a1076da241c76c62d374d8389ea5aeffd3226a0530cc565f3bf6b50929139ebeac04f48c3c84afb796d61e5a4f9a8fda812ab59494232c7d2b4deb50aa18ee9e132bfa85ac4374d7f9091abc3d015efc871a584471bb1` |\n",
    "| q | `0xf4f47f05794b256174bba6e9b396a7707e563c5b`      |\n",
    "| g | `0x5958c9d3898b224b12672c0b98e06c60df923cb8bc999d119458fef538b8fa4046c8db53039db620c094c9fa077ef389b5322a559946a71903f990f1f7e0e025e2d7f7cf494aff1a0470f5b64c36b625a097f1651fe775323556fe00b3608c887892878480e99041be601a62166ca6894bdd41a7054ec89f756ba9fc95302291`      |\n",
    "\n",
    "You also were lucky to capture the SHA1 of a message which is `H=0x2bc546792a7624fb6e972b0fb85081fd20a8a28`. Knowing my public key and DSA signature\n",
    "\n",
    "| Parameter        | Value           |\n",
    "| ------------- |:-------------|\n",
    "| y | `0x33ff14f19fa9cf09b28747cdfe97252c4be46c9c4c2ee68a2231cb4b262dd839962eff659bd30f706e6cb2470117f211eadfadeac267bc4fecde6d4c058cdf5d7b8c75ba663ce7a87d22b171413b8d3b6ceee31b139051c385a06b8b2e2e587a15e87381c93f866bf7b122fda5c1f44d20480137906ed6026ed96c3793fde263` |\n",
    "| r | `548099063082341131477253921760299949438196259240`      |\n",
    "| s | `857042759984254168557880549501802188789837994940`      |\n",
    "\n",
    "can you derive my private key? Its SHA-1 fingerprint (after being converted to hex) is: `0x8f96763dea794b79094eef4717ceb5f10631d634`. Implement your function `recover_private_key(dsa_params, dsa_sign, H, ...)` and send your code.\n",
    "\n",
    "_Hint_: `k` is the number between `0` and `2**16`"
   ]
  },
  {
   "cell_type": "code",
   "execution_count": 27,
   "metadata": {},
   "outputs": [],
   "source": [
    "def recover_private_key(dsa_params, dsa_sign, H, y) -> int:\n",
    "    p, q, g = dsa_params\n",
    "    r, s = dsa_sign\n",
    "    inv_r = invmod(r, q)\n",
    "    top = 2 ** 16\n",
    "    for k in range(top):\n",
    "        x = ((s * k - H) * inv_r) % q\n",
    "        if pow(g, x, p) == y:\n",
    "            print(f\"Found! {x}\")\n",
    "            return x\n",
    "        if k % 1000 == 0:\n",
    "            print(f\"{k}/{top}\")"
   ]
  },
  {
   "cell_type": "code",
   "execution_count": 28,
   "metadata": {},
   "outputs": [
    {
     "name": "stdout",
     "output_type": "stream",
     "text": [
      "0/65536\n",
      "1000/65536\n",
      "2000/65536\n",
      "3000/65536\n",
      "4000/65536\n",
      "5000/65536\n",
      "6000/65536\n",
      "7000/65536\n",
      "8000/65536\n",
      "9000/65536\n",
      "10000/65536\n",
      "11000/65536\n",
      "12000/65536\n",
      "13000/65536\n",
      "14000/65536\n",
      "15000/65536\n",
      "16000/65536\n",
      "Found! 40652980678670648677780565078388285335180708481\n"
     ]
    }
   ],
   "source": [
    "p = 0x800000000000000089E1855218A0E7DAC38136FFAFA72EDA7859F2171E25E65EAC698C1702578B07DC2A1076DA241C76C62D374D8389EA5AEFFD3226A0530CC565F3BF6B50929139EBEAC04F48C3C84AFB796D61E5A4F9A8FDA812AB59494232C7D2B4DEB50AA18EE9E132BFA85AC4374D7F9091ABC3D015EFC871A584471BB1\n",
    "q = 0xF4F47F05794B256174BBA6E9B396A7707E563C5B\n",
    "g = 0x5958C9D3898B224B12672C0B98E06C60DF923CB8BC999D119458FEF538B8FA4046C8DB53039DB620C094C9FA077EF389B5322A559946A71903F990F1F7E0E025E2D7F7CF494AFF1A0470F5B64C36B625A097F1651FE775323556FE00B3608C887892878480E99041BE601A62166CA6894BDD41A7054EC89F756BA9FC95302291\n",
    "\n",
    "y = 0x33FF14F19FA9CF09B28747CDFE97252C4BE46C9C4C2EE68A2231CB4B262DD839962EFF659BD30F706E6CB2470117F211EADFADEAC267BC4FECDE6D4C058CDF5D7B8C75BA663CE7A87D22B171413B8D3B6CEEE31B139051C385A06B8B2E2E587A15E87381C93F866BF7B122FDA5C1F44D20480137906ED6026ED96C3793FDE263\n",
    "r = 548099063082341131477253921760299949438196259240\n",
    "s = 857042759984254168557880549501802188789837994940\n",
    "\n",
    "H = 0x2BC546792A7624FB6E972B0FB85081FD20A8A28\n",
    "\n",
    "recovered = recover_private_key([p, q, g], [r, s], H, y)"
   ]
  },
  {
   "cell_type": "code",
   "execution_count": 29,
   "metadata": {},
   "outputs": [
    {
     "name": "stdout",
     "output_type": "stream",
     "text": [
      "Ok\n"
     ]
    }
   ],
   "source": [
    "def check_fingerprint(expected: int, recovered_key: int) -> bool:\n",
    "    recovered_hex_bytes = hex(recovered)[2:].encode()\n",
    "    recovered_fingerprint = int_from_bytes(hashlib.sha1(recovered_hex_bytes).digest())\n",
    "    return recovered_fingerprint == expected\n",
    "\n",
    "real_fingerprint = 0x8f96763dea794b79094eef4717ceb5f10631d634\n",
    "assert check_fingerprint(real_fingerprint, recovered)\n",
    "print(\"Ok\")"
   ]
  }
 ],
 "metadata": {
  "kernelspec": {
   "display_name": "Python 3 (ipykernel)",
   "language": "python",
   "name": "python3"
  },
  "language_info": {
   "codemirror_mode": {
    "name": "ipython",
    "version": 3
   },
   "file_extension": ".py",
   "mimetype": "text/x-python",
   "name": "python",
   "nbconvert_exporter": "python",
   "pygments_lexer": "ipython3",
   "version": "3.10.1"
  }
 },
 "nbformat": 4,
 "nbformat_minor": 1
}
