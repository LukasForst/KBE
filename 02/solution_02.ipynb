{
 "cells": [
  {
   "cell_type": "markdown",
   "id": "8abbc4ee",
   "metadata": {},
   "source": [
    "# Lab1 - crypto - Lukas Forst\n",
    "forstluk@fel.cvut.cz"
   ]
  },
  {
   "cell_type": "markdown",
   "id": "962cf322",
   "metadata": {},
   "source": [
    "## Exercise 0: make utilities\n",
    "\n",
    "This exercise is not strictly mandatory, but it will be useful for the\n",
    "rest of the lab.\n",
    "\n",
    "Write 6 functions `bin2txt`, `bin2hex`, `txt2bin`, `hex2bin`, `hex2txt`, `txt2hex`, that convert between the following representations:\n",
    "  - hex: `\"426f6f6d\"` (more precisely, a string to be interepreted as\n",
    "      hexadecimal)\n",
    "  - text: `\"Boom\"`\n",
    "  - binary: `b\"Boom\"` in Python\n",
    "\n",
    "Depending on the language, you may not have to distinguish between\n",
    "binary and text, for instance in C it is the same thing, however in\n",
    "Python one has type `str` whereas the other has type `bytes`.\n",
    "\n",
    "You are not expected to write any complex algorithm here, just\n",
    "delegate to the correct utility functions of your language if they are\n",
    "provided. In other words don't rewrite yet another routine to\n",
    "hand-parse hexadecimal."
   ]
  },
  {
   "cell_type": "code",
   "execution_count": 6,
   "id": "22407448-7b23-4f06-9f3a-490922d7bdfa",
   "metadata": {},
   "outputs": [],
   "source": [
    "def bin2txt(arg: bytes) -> str:\n",
    "    return arg.decode(\"utf-8\")\n",
    "\n",
    "def bin2hex(arg: bytes) -> str:\n",
    "    return arg.hex()\n",
    "\n",
    "def txt2bin(arg: str) -> bytes:\n",
    "    return arg.encode()\n",
    "\n",
    "def hex2bin(arg: str) -> bytes:\n",
    "    return bytes.fromhex(arg)\n",
    "\n",
    "def hex2txt(arg: str) -> str:\n",
    "    return bin2txt(hex2bin(arg))\n",
    "\n",
    "def txt2hex(arg: str) -> str:\n",
    "    return bin2hex(txt2bin(arg))"
   ]
  },
  {
   "cell_type": "markdown",
   "id": "73aec95e",
   "metadata": {},
   "source": [
    "## Exercise 1: encrypt xor\n",
    "\n",
    "Write a function that encrypts a text with a xor key. The idea is\n",
    "simple: to obtain the first byte of the ciphertext, xor the first byte\n",
    "of the text and the first byte of the key. Continue in this fashion\n",
    "until the text is exhausted. If the key is shorter than the text, it\n",
    "should be recycled (start over from the beginning).\n",
    "\n",
    "For instance, xorring the text `everything remains raw` with the key\n",
    "`word up` should give you the following hexadecimal ciphertext:\n",
    "`121917165901181e01154452101d16061c1700071100`.\n",
    "\n",
    "What is the ciphertext of the hex-encoded text `the world is yours` against the key `illmatic`?"
   ]
  },
  {
   "cell_type": "code",
   "execution_count": 40,
   "id": "bed1da6b-14aa-4935-8439-b744dadc1d45",
   "metadata": {},
   "outputs": [
    {
     "name": "stdout",
     "output_type": "stream",
     "text": [
      "Generated cipher text matches expected: True\n",
      "Hex Ciphertext: 1d04094d161b1b0f0d4c051e410d06161b1f\n"
     ]
    }
   ],
   "source": [
    "from itertools import cycle\n",
    "\n",
    "def xor(clear_text: bytes, key: bytes) -> bytes:\n",
    "    # fancy way how to do key[i % len(key)]\n",
    "    key_generator = cycle(key)\n",
    "    # we don't like for cycles, so let's zip bytes from clear text and key\n",
    "    return bytes([x^y for x,y in zip(clear_text, key_generator)])\n",
    "\n",
    "# test part\n",
    "clear_text = txt2bin('everything remains raw')\n",
    "key = txt2bin('word up')\n",
    "expected_cipher_text = hex2bin('121917165901181e01154452101d16061c1700071100')\n",
    "cipher_text = xor(clear_text, key)\n",
    "\n",
    "assert cipher_text == expected_cipher_text\n",
    "print(f'Generated cipher text matches expected: {cipher_text == expected_cipher_text}')\n",
    "\n",
    "# now lets get real data\n",
    "clear_text = txt2bin('the world is yours')\n",
    "key = txt2bin('illmatic')\n",
    "cipher_text = xor(clear_text, key)\n",
    "print(f'Hex Ciphertext: {bin2hex(cipher_text)}')"
   ]
  },
  {
   "cell_type": "markdown",
   "id": "32195a88",
   "metadata": {},
   "source": [
    "## Exercise 2: decrypt single-letter xor\n",
    "\n",
    "The following hex-encoded ciphertext was encoded against the\n",
    "single-letter key `$`, i.e. ASCII 36.\n",
    "\n",
    "    404b48484504404b48484504464d4848045d4b\n",
    "\n",
    "Before decrypting, shortly explain what pattern(s) are present in this\n",
    "ciphertext due to the weak mode of encryption.\n",
    "\n",
    "Then, decrypt the text. What is the plaintext?"
   ]
  },
  {
   "cell_type": "code",
   "execution_count": 41,
   "id": "5d12b156",
   "metadata": {},
   "outputs": [
    {
     "name": "stdout",
     "output_type": "stream",
     "text": [
      "b'@KHHE\\x04@KHHE\\x04FMHH\\x04]K'\n"
     ]
    }
   ],
   "source": [
    "cipher_text = hex2bin('404b48484504404b48484504464d4848045d4b')\n",
    "print(cipher_text)"
   ]
  },
  {
   "cell_type": "markdown",
   "id": "50237b14",
   "metadata": {},
   "source": [
    "When we print the cipher text in binary, we can see pattern `KHHE` repeating two times and `\\x04` repeating three times. This suggests that there is one word two times and one symbol three times. Also, `HH` is repeating three times so there's repeating symbol as well."
   ]
  },
  {
   "cell_type": "code",
   "execution_count": 42,
   "id": "98a96c64",
   "metadata": {},
   "outputs": [
    {
     "name": "stdout",
     "output_type": "stream",
     "text": [
      "Clear text: \"dolla dolla bill yo\"\n"
     ]
    }
   ],
   "source": [
    "key = txt2bin('$')\n",
    "\n",
    "print(f'Clear text: \"{bin2txt(xor(cipher_text, key))}\"')"
   ]
  },
  {
   "cell_type": "markdown",
   "id": "c3ca01a4",
   "metadata": {},
   "source": [
    "And yes, now we can map that `KHHE` was `dolla`, repeating twice, `\\x04` was space and `HH` was `ll`."
   ]
  },
  {
   "cell_type": "markdown",
   "id": "e2b16d38",
   "metadata": {},
   "source": [
    "## Exercise 3: hand crack single-letter xor\n",
    "\n",
    "The file `text1.hex` contains a hex-encoded ciphertext that was\n",
    "xor encoded with a single letter.\n",
    "\n",
    "Decrypt it. What is the first line?"
   ]
  },
  {
   "cell_type": "markdown",
   "id": "b96c9057",
   "metadata": {},
   "source": [
    "*(I think it is just easier to go right into excercise **4**)*"
   ]
  },
  {
   "cell_type": "markdown",
   "id": "a96f2d80",
   "metadata": {},
   "source": [
    "## Exercise 4: automate cracking single-letter xor\n",
    "\n",
    "Solve the previous exercise, but instead of searching for the correct\n",
    "key/plaintext with your eyes, make the computer do it. In other words,\n",
    "you should have a function that, given a single-letter xor encoded\n",
    "ciphertext, will return you the single-byte key (and, if you want, the\n",
    "plaintext).\n",
    "\n",
    "You could devise a scoring function that checks, for a given\n",
    "decryption, if it seems like English. Then just iterate through all\n",
    "possible keys and return the key whose decryption gets the best\n",
    "score."
   ]
  },
  {
   "cell_type": "code",
   "execution_count": 98,
   "id": "bd04c1d4",
   "metadata": {},
   "outputs": [],
   "source": [
    "# https://inventwithpython.com/hacking/chapter20.html\n",
    "FREQUENCY_OF_ENGLISH_LETTERS = {'E': 12.70, 'T': 9.06, 'A': 8.17, 'O': 7.51, 'I': 6.97, 'N': 6.75, 'S': 6.33, 'H': 6.09, 'R': 5.99, 'D': 4.25, 'L': 4.03, 'C': 2.78, 'U': 2.76, 'M': 2.41, 'W': 2.36, 'F': 2.23, 'G': 2.02, 'Y': 1.97, 'P': 1.93, 'B': 1.29, 'V': 0.98, 'K': 0.77, 'J': 0.15, 'X': 0.15, 'Q': 0.10, 'Z': 0.07}"
   ]
  },
  {
   "cell_type": "code",
   "execution_count": 142,
   "id": "fb9c3769",
   "metadata": {},
   "outputs": [],
   "source": [
    "import string\n",
    "from collections import Counter\n",
    "\n",
    "def contains_only_printable_chars(clear_text: str) -> bool:\n",
    "    # check if there're any non printable characters\n",
    "    return all([char in string.printable for char in clear_text])\n",
    "\n",
    "def english_frequency_analysis(clear_text: str, diff = 5) -> float:\n",
    "    if not contains_only_printable_chars(clear_text):\n",
    "        return float(\"inf\")\n",
    "\n",
    "    # now we need only text that can be used for frequency analysis\n",
    "    normalized = [l for l in clear_text.upper() if l in FREQUENCY_OF_ENGLISH_LETTERS.keys()]\n",
    "    \n",
    "    counter = Counter(normalized)\n",
    "    \n",
    "    # calculate relative frequency of letters\n",
    "    relative_frequencies = {letter: (100*count)/len(normalized) for letter, count in counter.items()}\n",
    "    # and calculate final score for the text\n",
    "    return sum([abs(FREQUENCY_OF_ENGLISH_LETTERS[letter] - freq) for letter, freq in relative_frequencies.items()])\n",
    "\n",
    "# returns key, score, plaintext\n",
    "def decrypt_cipher(cipher_text: bytes, alphabet: [bytes]) -> [str, float, str]:\n",
    "    score = {}\n",
    "    plain_texts = {}\n",
    "    for key in alphabet:\n",
    "        plain_texts[key] = bin2txt(xor(cipher_text, key))\n",
    "        score[key] = english_frequency_analysis(plain_texts[key])\n",
    "        \n",
    "    key = min(score, key=score.get)\n",
    "    return bin2txt(key), score[key], plain_texts[key]"
   ]
  },
  {
   "cell_type": "code",
   "execution_count": 143,
   "id": "26311e65",
   "metadata": {},
   "outputs": [
    {
     "name": "stdout",
     "output_type": "stream",
     "text": [
      "Encryption key: \"M\" with frequency score 26.15073394495413\n"
     ]
    },
    {
     "data": {
      "text/plain": [
       "'Busta Rhymes up in the place, true indeed'"
      ]
     },
     "execution_count": 143,
     "metadata": {},
     "output_type": "execute_result"
    }
   ],
   "source": [
    "with open(\"text1.hex\") as f:\n",
    "    cipher_text = hex2bin(f.read())\n",
    "\n",
    "# generate all possible keys\n",
    "alphabet = [txt2bin(letter) for letter in string.ascii_letters]\n",
    "\n",
    "key, score, plain_text = decrypt_cipher(cipher_text, alphabet)\n",
    "\n",
    "print(f'Encryption key: \"{key}\" with frequency score {score}')\n",
    "plain_text.split(\"\\n\")[0]"
   ]
  },
  {
   "cell_type": "markdown",
   "id": "6602a16f",
   "metadata": {},
   "source": [
    "## Exercise 5: crack multiple-letter xor with given key length\n",
    "\n",
    "The file `text2.hex` contains a hex-encoded ciphertext that was xor\n",
    "encoded against a multiple-letter key -- just like Ex 1.\n",
    "\n",
    "Crack it. You are given the following indication: the key contain\n",
    "10 characters.\n",
    "\n",
    "Notice that by a simple manipulation of the ciphertext, the 10-letter\n",
    "encryption is nothing more than a collection of 10 single-letter\n",
    "encryptions -- which you can already crack thanks to Ex 4.\n",
    "\n",
    "What is the key, what is the first line?"
   ]
  },
  {
   "cell_type": "code",
   "execution_count": 144,
   "id": "0f35a7e4",
   "metadata": {},
   "outputs": [],
   "source": [
    "def decrypt_cipher_chunking(cipher_text: bytes, key_length: int, alphabet: [bytes]):\n",
    "    cipher_text_chunks = [cipher_text[i::key_length] for i in range(key_length)]\n",
    "    keys = []\n",
    "    for chunk in cipher_text_chunks:\n",
    "        key, score, plain_text = decrypt_cipher(chunk, alphabet)\n",
    "        keys.append(key)\n",
    "    \n",
    "    key = ''.join(keys)\n",
    "    return key, bin2txt(xor(cipher_text, txt2bin(key)))"
   ]
  },
  {
   "cell_type": "code",
   "execution_count": 145,
   "id": "0b304f7b",
   "metadata": {},
   "outputs": [
    {
     "name": "stdout",
     "output_type": "stream",
     "text": [
      "Key: SupremeNTM\n"
     ]
    },
    {
     "data": {
      "text/plain": [
       "\"C'est le nouveau, phenomenal, freestyle du visage pale\""
      ]
     },
     "execution_count": 145,
     "metadata": {},
     "output_type": "execute_result"
    }
   ],
   "source": [
    "with open(\"text2.hex\") as f:\n",
    "    cipher_text = hex2bin(f.read())\n",
    "\n",
    "alphabet = [txt2bin(l) for l in string.printable]\n",
    "key, plain_text = decrypt_cipher_chunking(cipher_text, 10, alphabet)\n",
    "print(f'Key: {key}')\n",
    "plain_text.split('\\n')[0]"
   ]
  },
  {
   "cell_type": "markdown",
   "id": "993a0b2d",
   "metadata": {},
   "source": [
    "## Exercise 6: crack multiple-letter xor with unknown key length\n",
    "\n",
    "Decrypt `text3.hex`, except this time you don't know the keylength.\n",
    "Even better if you can make your code find out the keylength before\n",
    "trying to decrypt.\n",
    "\n",
    "What is the key, what is the first line?"
   ]
  },
  {
   "cell_type": "code",
   "execution_count": 152,
   "id": "f648d042-3c70-4488-9a63-b34e2821ba2a",
   "metadata": {},
   "outputs": [
    {
     "name": "stdout",
     "output_type": "stream",
     "text": [
      "Testing key length 2...\n",
      "Testing key length 3...\n",
      "Testing key length 4...\n",
      "Testing key length 5...\n",
      "Testing key length 6...\n",
      "Testing key length 7...\n",
      "Testing key length 8...\n",
      "Testing key length 9...\n",
      "Testing key length 10...\n",
      "Testing key length 11...\n",
      "Testing key length 12...\n",
      "Testing key length 13...\n",
      "Testing key length 14...\n",
      "Testing key length 15...\n",
      "Testing key length 16...\n",
      "Key: CL4SS!C_TIM3L35S\n"
     ]
    },
    {
     "data": {
      "text/plain": [
       "\"And now for my next number I'd like to return to the...\""
      ]
     },
     "execution_count": 152,
     "metadata": {},
     "output_type": "execute_result"
    }
   ],
   "source": [
    "with open(\"text3.hex\") as f:\n",
    "    cipher_text = hex2bin(f.read())\n",
    "\n",
    "score = {}\n",
    "plain_texts = {}\n",
    "keys = []\n",
    "\n",
    "for length in range(2, 258):\n",
    "    print(f'Testing key length {length}...')\n",
    "    key, plain_text = decrypt_cipher_chunking(cipher_text, length, alphabet)\n",
    "    score[key] = english_frequency_analysis(plain_text)\n",
    "    plain_texts[key] = plain_text\n",
    "    keys.append(key)\n",
    "    # trashold check, it is unlikely that english text would\n",
    "    # have score higher then this, and even if it has\n",
    "    # we select by min anyway at the end\n",
    "    if score[key] < 50:\n",
    "        break\n",
    "    \n",
    "key = min(score, key=score.get)\n",
    "print(f'Key: {key}')\n",
    "plain_text.split('\\n')[0]"
   ]
  },
  {
   "cell_type": "markdown",
   "id": "8f97310c",
   "metadata": {},
   "source": [
    "## Bonus: when you have finished all exercises\n",
    "\n",
    "A careless user of cryptography has reused a classic timeless key to\n",
    "encrypt the file `secret.zip`, which reveals the way to an important\n",
    "philosophical work.\n",
    "\n",
    "According to this masterpiece, what comes brand new?"
   ]
  },
  {
   "cell_type": "markdown",
   "id": "ec6a1d37",
   "metadata": {},
   "source": [
    "Obviously, the password for the zip file was `CL4SS!C_TIM3L35S` from the previous excercise. The content of the `philosophy.txt` was then `PMbELEUfmIA`. Quick google reveals that this is youtube URL - https://www.youtube.com/watch?v=PMbELEUfmIA\n",
    "\n",
    "According to the song's lyrics:\n",
    "> Here comes the brand new flava in ya ear\n",
    "\n",
    "The answer is \"flava in ya ear\"."
   ]
  },
  {
   "cell_type": "markdown",
   "id": "633c1d23",
   "metadata": {},
   "source": [
    "## Exercise 2.1: why we do all of this\n",
    "\n",
    "This is the easiest exercise, but also the most important one.\n",
    "\n",
    "Write in your report the following sentence:\n",
    "\n",
    "    I, <your name here>, understand that cryptography is easy to mess up, and\n",
    "    that I will not carelessly combine pieces of cryptographic ciphers to\n",
    "    encrypt my users' data. I will not write crypto code myself, but defer to\n",
    "    high-level libaries written by experts who took the right decisions for me,\n",
    "    like NaCL.\n",
    "\n",
    "That's it. You will indeed get points for writing this sentence in your report.\n"
   ]
  },
  {
   "cell_type": "markdown",
   "id": "a7e51ba6",
   "metadata": {},
   "source": [
    "    I, Lukáš Forst, understand that cryptography is easy to mess up, and\n",
    "    that I will not carelessly combine pieces of cryptographic ciphers to\n",
    "    encrypt my users' data. I will not write crypto code myself, but defer to\n",
    "    high-level libaries written by experts who took the right decisions for me,\n",
    "    like NaCL."
   ]
  }
 ],
 "metadata": {
  "kernelspec": {
   "display_name": "Python 3 (ipykernel)",
   "language": "python",
   "name": "python3"
  },
  "language_info": {
   "codemirror_mode": {
    "name": "ipython",
    "version": 3
   },
   "file_extension": ".py",
   "mimetype": "text/x-python",
   "name": "python",
   "nbconvert_exporter": "python",
   "pygments_lexer": "ipython3",
   "version": "3.9.5"
  }
 },
 "nbformat": 4,
 "nbformat_minor": 5
}
